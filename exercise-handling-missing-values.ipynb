{
 "cells": [
  {
   "cell_type": "markdown",
   "id": "ca5792b1",
   "metadata": {
    "papermill": {
     "duration": 0.028822,
     "end_time": "2022-04-08T11:23:55.290196",
     "exception": false,
     "start_time": "2022-04-08T11:23:55.261374",
     "status": "completed"
    },
    "tags": []
   },
   "source": [
    "**This notebook is an exercise in the [Data Cleaning](https://www.kaggle.com/learn/data-cleaning) course.  You can reference the tutorial at [this link](https://www.kaggle.com/alexisbcook/handling-missing-values).**\n",
    "\n",
    "---\n"
   ]
  },
  {
   "cell_type": "markdown",
   "id": "e3779b30",
   "metadata": {
    "papermill": {
     "duration": 0.026939,
     "end_time": "2022-04-08T11:23:55.346290",
     "exception": false,
     "start_time": "2022-04-08T11:23:55.319351",
     "status": "completed"
    },
    "tags": []
   },
   "source": []
  },
  {
   "cell_type": "code",
   "execution_count": null,
   "id": "0bc14dcb",
   "metadata": {
    "papermill": {
     "duration": 0.027286,
     "end_time": "2022-04-08T11:23:55.401054",
     "exception": false,
     "start_time": "2022-04-08T11:23:55.373768",
     "status": "completed"
    },
    "tags": []
   },
   "outputs": [],
   "source": []
  },
  {
   "cell_type": "markdown",
   "id": "11aca726",
   "metadata": {
    "execution": {
     "iopub.execute_input": "2022-04-08T10:07:37.207845Z",
     "iopub.status.busy": "2022-04-08T10:07:37.207181Z",
     "iopub.status.idle": "2022-04-08T10:07:37.213854Z",
     "shell.execute_reply": "2022-04-08T10:07:37.212896Z",
     "shell.execute_reply.started": "2022-04-08T10:07:37.207779Z"
    },
    "papermill": {
     "duration": 0.027213,
     "end_time": "2022-04-08T11:23:55.455688",
     "exception": false,
     "start_time": "2022-04-08T11:23:55.428475",
     "status": "completed"
    },
    "tags": []
   },
   "source": [
    "In this exercise, you'll apply what you learned in the **Handling missing values** tutorial.\n",
    "\n",
    "# Setup\n",
    "\n",
    "The questions below will give you feedback on your work. Run the following cell to set up the feedback system."
   ]
  },
  {
   "cell_type": "code",
   "execution_count": 1,
   "id": "62d474c4",
   "metadata": {
    "execution": {
     "iopub.execute_input": "2022-04-08T11:23:55.520597Z",
     "iopub.status.busy": "2022-04-08T11:23:55.519968Z",
     "iopub.status.idle": "2022-04-08T11:24:00.849378Z",
     "shell.execute_reply": "2022-04-08T11:24:00.848093Z",
     "shell.execute_reply.started": "2022-04-08T10:08:07.699986Z"
    },
    "papermill": {
     "duration": 5.366495,
     "end_time": "2022-04-08T11:24:00.849643",
     "exception": false,
     "start_time": "2022-04-08T11:23:55.483148",
     "status": "completed"
    },
    "tags": []
   },
   "outputs": [
    {
     "name": "stderr",
     "output_type": "stream",
     "text": [
      "/opt/conda/lib/python3.7/site-packages/ipykernel_launcher.py:3: DtypeWarning: Columns (22,32) have mixed types.Specify dtype option on import or set low_memory=False.\n",
      "  This is separate from the ipykernel package so we can avoid doing imports until\n"
     ]
    },
    {
     "name": "stdout",
     "output_type": "stream",
     "text": [
      "Setup Complete\n"
     ]
    }
   ],
   "source": [
    "from learntools.core import binder\n",
    "binder.bind(globals())\n",
    "from learntools.data_cleaning.ex1 import *\n",
    "print(\"Setup Complete\")"
   ]
  },
  {
   "cell_type": "markdown",
   "id": "435bcc12",
   "metadata": {
    "papermill": {
     "duration": 0.029821,
     "end_time": "2022-04-08T11:24:00.910219",
     "exception": false,
     "start_time": "2022-04-08T11:24:00.880398",
     "status": "completed"
    },
    "tags": []
   },
   "source": [
    "# 1) Take a first look at the data\n",
    "\n",
    "Run the next code cell to load in the libraries and dataset you'll use to complete the exercise."
   ]
  },
  {
   "cell_type": "code",
   "execution_count": 2,
   "id": "87942faa",
   "metadata": {
    "execution": {
     "iopub.execute_input": "2022-04-08T11:24:00.975654Z",
     "iopub.status.busy": "2022-04-08T11:24:00.974429Z",
     "iopub.status.idle": "2022-04-08T11:24:03.060054Z",
     "shell.execute_reply": "2022-04-08T11:24:03.059503Z",
     "shell.execute_reply.started": "2022-04-08T10:08:18.861432Z"
    },
    "papermill": {
     "duration": 2.120348,
     "end_time": "2022-04-08T11:24:03.060191",
     "exception": false,
     "start_time": "2022-04-08T11:24:00.939843",
     "status": "completed"
    },
    "tags": []
   },
   "outputs": [
    {
     "name": "stderr",
     "output_type": "stream",
     "text": [
      "/opt/conda/lib/python3.7/site-packages/IPython/core/interactiveshell.py:3457: DtypeWarning: Columns (22,32) have mixed types.Specify dtype option on import or set low_memory=False.\n",
      "  exec(code_obj, self.user_global_ns, self.user_ns)\n"
     ]
    }
   ],
   "source": [
    "# modules we'll use\n",
    "import pandas as pd\n",
    "import numpy as np\n",
    "\n",
    "# read in all our data\n",
    "sf_permits = pd.read_csv(\"../input/building-permit-applications-data/Building_Permits.csv\")\n",
    "\n",
    "# set seed for reproducibility\n",
    "np.random.seed(0) "
   ]
  },
  {
   "cell_type": "markdown",
   "id": "48413b1a",
   "metadata": {
    "papermill": {
     "duration": 0.028638,
     "end_time": "2022-04-08T11:24:03.118735",
     "exception": false,
     "start_time": "2022-04-08T11:24:03.090097",
     "status": "completed"
    },
    "tags": []
   },
   "source": [
    "Use the code cell below to print the first five rows of the `sf_permits` DataFrame."
   ]
  },
  {
   "cell_type": "code",
   "execution_count": 3,
   "id": "3746e4b3",
   "metadata": {
    "execution": {
     "iopub.execute_input": "2022-04-08T11:24:03.182405Z",
     "iopub.status.busy": "2022-04-08T11:24:03.181439Z",
     "iopub.status.idle": "2022-04-08T11:24:03.215013Z",
     "shell.execute_reply": "2022-04-08T11:24:03.215541Z",
     "shell.execute_reply.started": "2022-04-08T10:08:40.657127Z"
    },
    "papermill": {
     "duration": 0.066161,
     "end_time": "2022-04-08T11:24:03.215716",
     "exception": false,
     "start_time": "2022-04-08T11:24:03.149555",
     "status": "completed"
    },
    "tags": []
   },
   "outputs": [
    {
     "data": {
      "text/html": [
       "<div>\n",
       "<style scoped>\n",
       "    .dataframe tbody tr th:only-of-type {\n",
       "        vertical-align: middle;\n",
       "    }\n",
       "\n",
       "    .dataframe tbody tr th {\n",
       "        vertical-align: top;\n",
       "    }\n",
       "\n",
       "    .dataframe thead th {\n",
       "        text-align: right;\n",
       "    }\n",
       "</style>\n",
       "<table border=\"1\" class=\"dataframe\">\n",
       "  <thead>\n",
       "    <tr style=\"text-align: right;\">\n",
       "      <th></th>\n",
       "      <th>Permit Number</th>\n",
       "      <th>Permit Type</th>\n",
       "      <th>Permit Type Definition</th>\n",
       "      <th>Permit Creation Date</th>\n",
       "      <th>Block</th>\n",
       "      <th>Lot</th>\n",
       "      <th>Street Number</th>\n",
       "      <th>Street Number Suffix</th>\n",
       "      <th>Street Name</th>\n",
       "      <th>Street Suffix</th>\n",
       "      <th>...</th>\n",
       "      <th>Existing Construction Type</th>\n",
       "      <th>Existing Construction Type Description</th>\n",
       "      <th>Proposed Construction Type</th>\n",
       "      <th>Proposed Construction Type Description</th>\n",
       "      <th>Site Permit</th>\n",
       "      <th>Supervisor District</th>\n",
       "      <th>Neighborhoods - Analysis Boundaries</th>\n",
       "      <th>Zipcode</th>\n",
       "      <th>Location</th>\n",
       "      <th>Record ID</th>\n",
       "    </tr>\n",
       "  </thead>\n",
       "  <tbody>\n",
       "    <tr>\n",
       "      <th>0</th>\n",
       "      <td>201505065519</td>\n",
       "      <td>4</td>\n",
       "      <td>sign - erect</td>\n",
       "      <td>05/06/2015</td>\n",
       "      <td>0326</td>\n",
       "      <td>023</td>\n",
       "      <td>140</td>\n",
       "      <td>NaN</td>\n",
       "      <td>Ellis</td>\n",
       "      <td>St</td>\n",
       "      <td>...</td>\n",
       "      <td>3.0</td>\n",
       "      <td>constr type 3</td>\n",
       "      <td>NaN</td>\n",
       "      <td>NaN</td>\n",
       "      <td>NaN</td>\n",
       "      <td>3.0</td>\n",
       "      <td>Tenderloin</td>\n",
       "      <td>94102.0</td>\n",
       "      <td>(37.785719256680785, -122.40852313194863)</td>\n",
       "      <td>1380611233945</td>\n",
       "    </tr>\n",
       "    <tr>\n",
       "      <th>1</th>\n",
       "      <td>201604195146</td>\n",
       "      <td>4</td>\n",
       "      <td>sign - erect</td>\n",
       "      <td>04/19/2016</td>\n",
       "      <td>0306</td>\n",
       "      <td>007</td>\n",
       "      <td>440</td>\n",
       "      <td>NaN</td>\n",
       "      <td>Geary</td>\n",
       "      <td>St</td>\n",
       "      <td>...</td>\n",
       "      <td>3.0</td>\n",
       "      <td>constr type 3</td>\n",
       "      <td>NaN</td>\n",
       "      <td>NaN</td>\n",
       "      <td>NaN</td>\n",
       "      <td>3.0</td>\n",
       "      <td>Tenderloin</td>\n",
       "      <td>94102.0</td>\n",
       "      <td>(37.78733980600732, -122.41063199757738)</td>\n",
       "      <td>1420164406718</td>\n",
       "    </tr>\n",
       "    <tr>\n",
       "      <th>2</th>\n",
       "      <td>201605278609</td>\n",
       "      <td>3</td>\n",
       "      <td>additions alterations or repairs</td>\n",
       "      <td>05/27/2016</td>\n",
       "      <td>0595</td>\n",
       "      <td>203</td>\n",
       "      <td>1647</td>\n",
       "      <td>NaN</td>\n",
       "      <td>Pacific</td>\n",
       "      <td>Av</td>\n",
       "      <td>...</td>\n",
       "      <td>1.0</td>\n",
       "      <td>constr type 1</td>\n",
       "      <td>1.0</td>\n",
       "      <td>constr type 1</td>\n",
       "      <td>NaN</td>\n",
       "      <td>3.0</td>\n",
       "      <td>Russian Hill</td>\n",
       "      <td>94109.0</td>\n",
       "      <td>(37.7946573324287, -122.42232562979227)</td>\n",
       "      <td>1424856504716</td>\n",
       "    </tr>\n",
       "    <tr>\n",
       "      <th>3</th>\n",
       "      <td>201611072166</td>\n",
       "      <td>8</td>\n",
       "      <td>otc alterations permit</td>\n",
       "      <td>11/07/2016</td>\n",
       "      <td>0156</td>\n",
       "      <td>011</td>\n",
       "      <td>1230</td>\n",
       "      <td>NaN</td>\n",
       "      <td>Pacific</td>\n",
       "      <td>Av</td>\n",
       "      <td>...</td>\n",
       "      <td>5.0</td>\n",
       "      <td>wood frame (5)</td>\n",
       "      <td>5.0</td>\n",
       "      <td>wood frame (5)</td>\n",
       "      <td>NaN</td>\n",
       "      <td>3.0</td>\n",
       "      <td>Nob Hill</td>\n",
       "      <td>94109.0</td>\n",
       "      <td>(37.79595867909168, -122.41557405519474)</td>\n",
       "      <td>1443574295566</td>\n",
       "    </tr>\n",
       "    <tr>\n",
       "      <th>4</th>\n",
       "      <td>201611283529</td>\n",
       "      <td>6</td>\n",
       "      <td>demolitions</td>\n",
       "      <td>11/28/2016</td>\n",
       "      <td>0342</td>\n",
       "      <td>001</td>\n",
       "      <td>950</td>\n",
       "      <td>NaN</td>\n",
       "      <td>Market</td>\n",
       "      <td>St</td>\n",
       "      <td>...</td>\n",
       "      <td>3.0</td>\n",
       "      <td>constr type 3</td>\n",
       "      <td>NaN</td>\n",
       "      <td>NaN</td>\n",
       "      <td>NaN</td>\n",
       "      <td>6.0</td>\n",
       "      <td>Tenderloin</td>\n",
       "      <td>94102.0</td>\n",
       "      <td>(37.78315261897309, -122.40950883997789)</td>\n",
       "      <td>144548169992</td>\n",
       "    </tr>\n",
       "  </tbody>\n",
       "</table>\n",
       "<p>5 rows × 43 columns</p>\n",
       "</div>"
      ],
      "text/plain": [
       "  Permit Number  Permit Type            Permit Type Definition  \\\n",
       "0  201505065519            4                      sign - erect   \n",
       "1  201604195146            4                      sign - erect   \n",
       "2  201605278609            3  additions alterations or repairs   \n",
       "3  201611072166            8            otc alterations permit   \n",
       "4  201611283529            6                       demolitions   \n",
       "\n",
       "  Permit Creation Date Block  Lot  Street Number Street Number Suffix  \\\n",
       "0           05/06/2015  0326  023            140                  NaN   \n",
       "1           04/19/2016  0306  007            440                  NaN   \n",
       "2           05/27/2016  0595  203           1647                  NaN   \n",
       "3           11/07/2016  0156  011           1230                  NaN   \n",
       "4           11/28/2016  0342  001            950                  NaN   \n",
       "\n",
       "  Street Name Street Suffix  ...  Existing Construction Type  \\\n",
       "0       Ellis            St  ...                         3.0   \n",
       "1       Geary            St  ...                         3.0   \n",
       "2     Pacific            Av  ...                         1.0   \n",
       "3     Pacific            Av  ...                         5.0   \n",
       "4      Market            St  ...                         3.0   \n",
       "\n",
       "  Existing Construction Type Description Proposed Construction Type  \\\n",
       "0                          constr type 3                        NaN   \n",
       "1                          constr type 3                        NaN   \n",
       "2                          constr type 1                        1.0   \n",
       "3                         wood frame (5)                        5.0   \n",
       "4                          constr type 3                        NaN   \n",
       "\n",
       "  Proposed Construction Type Description Site Permit Supervisor District  \\\n",
       "0                                    NaN         NaN                 3.0   \n",
       "1                                    NaN         NaN                 3.0   \n",
       "2                          constr type 1         NaN                 3.0   \n",
       "3                         wood frame (5)         NaN                 3.0   \n",
       "4                                    NaN         NaN                 6.0   \n",
       "\n",
       "  Neighborhoods - Analysis Boundaries  Zipcode  \\\n",
       "0                          Tenderloin  94102.0   \n",
       "1                          Tenderloin  94102.0   \n",
       "2                        Russian Hill  94109.0   \n",
       "3                            Nob Hill  94109.0   \n",
       "4                          Tenderloin  94102.0   \n",
       "\n",
       "                                    Location      Record ID  \n",
       "0  (37.785719256680785, -122.40852313194863)  1380611233945  \n",
       "1   (37.78733980600732, -122.41063199757738)  1420164406718  \n",
       "2    (37.7946573324287, -122.42232562979227)  1424856504716  \n",
       "3   (37.79595867909168, -122.41557405519474)  1443574295566  \n",
       "4   (37.78315261897309, -122.40950883997789)   144548169992  \n",
       "\n",
       "[5 rows x 43 columns]"
      ]
     },
     "execution_count": 3,
     "metadata": {},
     "output_type": "execute_result"
    }
   ],
   "source": [
    "# TODO: Your code here!\n",
    "sf_permits.head()"
   ]
  },
  {
   "cell_type": "markdown",
   "id": "afb46597",
   "metadata": {
    "papermill": {
     "duration": 0.029591,
     "end_time": "2022-04-08T11:24:03.275581",
     "exception": false,
     "start_time": "2022-04-08T11:24:03.245990",
     "status": "completed"
    },
    "tags": []
   },
   "source": [
    "Does the dataset have any missing values?  Once you have an answer, run the code cell below to get credit for your work."
   ]
  },
  {
   "cell_type": "code",
   "execution_count": 4,
   "id": "764095b2",
   "metadata": {
    "execution": {
     "iopub.execute_input": "2022-04-08T11:24:03.340153Z",
     "iopub.status.busy": "2022-04-08T11:24:03.338709Z",
     "iopub.status.idle": "2022-04-08T11:24:03.345215Z",
     "shell.execute_reply": "2022-04-08T11:24:03.345739Z",
     "shell.execute_reply.started": "2022-04-08T10:08:50.136919Z"
    },
    "papermill": {
     "duration": 0.040597,
     "end_time": "2022-04-08T11:24:03.345914",
     "exception": false,
     "start_time": "2022-04-08T11:24:03.305317",
     "status": "completed"
    },
    "tags": []
   },
   "outputs": [
    {
     "data": {
      "application/javascript": [
       "parent.postMessage({\"jupyterEvent\": \"custom.exercise_interaction\", \"data\": {\"outcomeType\": 1, \"valueTowardsCompletion\": 0.16666666666666666, \"interactionType\": 1, \"questionType\": 4, \"questionId\": \"1_TakeFirstLook\", \"learnToolsVersion\": \"0.3.4\", \"failureMessage\": \"\", \"exceptionClass\": \"\", \"trace\": \"\"}}, \"*\")"
      ],
      "text/plain": [
       "<IPython.core.display.Javascript object>"
      ]
     },
     "metadata": {},
     "output_type": "display_data"
    },
    {
     "data": {
      "text/markdown": [
       "<span style=\"color:#33cc33\">Correct:</span> \n",
       "\n",
       "The first five rows of the data does show that several columns have missing values.  You can see this in the \"Street Number Suffix\", \"Proposed Construction Type\" and \"Site Permit\" columns, among others."
      ],
      "text/plain": [
       "Correct: \n",
       "\n",
       "The first five rows of the data does show that several columns have missing values.  You can see this in the \"Street Number Suffix\", \"Proposed Construction Type\" and \"Site Permit\" columns, among others."
      ]
     },
     "metadata": {},
     "output_type": "display_data"
    }
   ],
   "source": [
    "# Check your answer (Run this code cell to receive credit!)\n",
    "q1.check()"
   ]
  },
  {
   "cell_type": "code",
   "execution_count": 5,
   "id": "84093343",
   "metadata": {
    "execution": {
     "iopub.execute_input": "2022-04-08T11:24:03.411874Z",
     "iopub.status.busy": "2022-04-08T11:24:03.410931Z",
     "iopub.status.idle": "2022-04-08T11:24:03.414018Z",
     "shell.execute_reply": "2022-04-08T11:24:03.414466Z",
     "shell.execute_reply.started": "2022-04-08T10:09:01.779972Z"
    },
    "papermill": {
     "duration": 0.037607,
     "end_time": "2022-04-08T11:24:03.414655",
     "exception": false,
     "start_time": "2022-04-08T11:24:03.377048",
     "status": "completed"
    },
    "tags": []
   },
   "outputs": [],
   "source": [
    "# Line below will give you a hint\n",
    "#q1.hint()"
   ]
  },
  {
   "cell_type": "markdown",
   "id": "7fa2906a",
   "metadata": {
    "papermill": {
     "duration": 0.031712,
     "end_time": "2022-04-08T11:24:03.478620",
     "exception": false,
     "start_time": "2022-04-08T11:24:03.446908",
     "status": "completed"
    },
    "tags": []
   },
   "source": [
    "# 2) How many missing data points do we have?\n",
    "\n",
    "What percentage of the values in the dataset are missing?  Your answer should be a number between 0 and 100.  (If 1/4 of the values in the dataset are missing, the answer is 25.)"
   ]
  },
  {
   "cell_type": "code",
   "execution_count": 6,
   "id": "87b6cfca",
   "metadata": {
    "execution": {
     "iopub.execute_input": "2022-04-08T11:24:03.545108Z",
     "iopub.status.busy": "2022-04-08T11:24:03.544102Z",
     "iopub.status.idle": "2022-04-08T11:24:04.050301Z",
     "shell.execute_reply": "2022-04-08T11:24:04.050870Z",
     "shell.execute_reply.started": "2022-04-08T10:09:05.661030Z"
    },
    "papermill": {
     "duration": 0.541344,
     "end_time": "2022-04-08T11:24:04.051050",
     "exception": false,
     "start_time": "2022-04-08T11:24:03.509706",
     "status": "completed"
    },
    "tags": []
   },
   "outputs": [
    {
     "data": {
      "application/javascript": [
       "parent.postMessage({\"jupyterEvent\": \"custom.exercise_interaction\", \"data\": {\"outcomeType\": 1, \"valueTowardsCompletion\": 0.16666666666666666, \"interactionType\": 1, \"questionType\": 1, \"questionId\": \"2_PercentMissingValues\", \"learnToolsVersion\": \"0.3.4\", \"failureMessage\": \"\", \"exceptionClass\": \"\", \"trace\": \"\"}}, \"*\")"
      ],
      "text/plain": [
       "<IPython.core.display.Javascript object>"
      ]
     },
     "metadata": {},
     "output_type": "display_data"
    },
    {
     "data": {
      "text/markdown": [
       "<span style=\"color:#33cc33\">Correct</span>"
      ],
      "text/plain": [
       "Correct"
      ]
     },
     "metadata": {},
     "output_type": "display_data"
    }
   ],
   "source": [
    "# TODO: Your code here!\n",
    "missing_values = sf_permits.isnull().sum().sum()\n",
    "\n",
    "total_cells=np.product(sf_permits.shape)\n",
    "percent_missing=(missing_values/total_cells)*100\n",
    "\n",
    "\n",
    "\n",
    "# Check your answer\n",
    "q2.check()"
   ]
  },
  {
   "cell_type": "code",
   "execution_count": 7,
   "id": "40921451",
   "metadata": {
    "execution": {
     "iopub.execute_input": "2022-04-08T11:24:04.122866Z",
     "iopub.status.busy": "2022-04-08T11:24:04.121783Z",
     "iopub.status.idle": "2022-04-08T11:24:04.123736Z",
     "shell.execute_reply": "2022-04-08T11:24:04.124439Z",
     "shell.execute_reply.started": "2022-04-08T10:09:21.886338Z"
    },
    "papermill": {
     "duration": 0.040556,
     "end_time": "2022-04-08T11:24:04.124846",
     "exception": false,
     "start_time": "2022-04-08T11:24:04.084290",
     "status": "completed"
    },
    "tags": []
   },
   "outputs": [],
   "source": [
    "# Lines below will give you a hint or solution code\n",
    "#q2.hint()\n",
    "#q2.solution()"
   ]
  },
  {
   "cell_type": "markdown",
   "id": "fd79088a",
   "metadata": {
    "papermill": {
     "duration": 0.032305,
     "end_time": "2022-04-08T11:24:04.190965",
     "exception": false,
     "start_time": "2022-04-08T11:24:04.158660",
     "status": "completed"
    },
    "tags": []
   },
   "source": [
    "# 3) Figure out why the data is missing\n",
    "\n",
    "Look at the columns **\"Street Number Suffix\"** and **\"Zipcode\"** from the [San Francisco Building Permits dataset](https://www.kaggle.com/aparnashastry/building-permit-applications-data). Both of these contain missing values. \n",
    "- Which, if either, are missing because they don't exist? \n",
    "- Which, if either, are missing because they weren't recorded?  \n",
    "\n",
    "Once you have an answer, run the code cell below."
   ]
  },
  {
   "cell_type": "code",
   "execution_count": 8,
   "id": "66a1ca9d",
   "metadata": {
    "execution": {
     "iopub.execute_input": "2022-04-08T11:24:04.262678Z",
     "iopub.status.busy": "2022-04-08T11:24:04.261291Z",
     "iopub.status.idle": "2022-04-08T11:24:04.268210Z",
     "shell.execute_reply": "2022-04-08T11:24:04.267684Z",
     "shell.execute_reply.started": "2022-04-08T10:09:32.120196Z"
    },
    "papermill": {
     "duration": 0.043782,
     "end_time": "2022-04-08T11:24:04.268347",
     "exception": false,
     "start_time": "2022-04-08T11:24:04.224565",
     "status": "completed"
    },
    "tags": []
   },
   "outputs": [
    {
     "data": {
      "application/javascript": [
       "parent.postMessage({\"jupyterEvent\": \"custom.exercise_interaction\", \"data\": {\"outcomeType\": 1, \"valueTowardsCompletion\": 0.16666666666666666, \"interactionType\": 1, \"questionType\": 4, \"questionId\": \"3_WhyDataMissing\", \"learnToolsVersion\": \"0.3.4\", \"failureMessage\": \"\", \"exceptionClass\": \"\", \"trace\": \"\"}}, \"*\")"
      ],
      "text/plain": [
       "<IPython.core.display.Javascript object>"
      ]
     },
     "metadata": {},
     "output_type": "display_data"
    },
    {
     "data": {
      "text/markdown": [
       "<span style=\"color:#33cc33\">Correct:</span> \n",
       "\n",
       "If a value in the \"Street Number Suffix\" column is missing, it is likely because it does not exist. If a value in the \"Zipcode\" column is missing, it was not recorded."
      ],
      "text/plain": [
       "Correct: \n",
       "\n",
       "If a value in the \"Street Number Suffix\" column is missing, it is likely because it does not exist. If a value in the \"Zipcode\" column is missing, it was not recorded."
      ]
     },
     "metadata": {},
     "output_type": "display_data"
    }
   ],
   "source": [
    "# Check your answer (Run this code cell to receive credit!)\n",
    "q3.check()"
   ]
  },
  {
   "cell_type": "code",
   "execution_count": 9,
   "id": "f6f6270d",
   "metadata": {
    "execution": {
     "iopub.execute_input": "2022-04-08T11:24:04.340066Z",
     "iopub.status.busy": "2022-04-08T11:24:04.339410Z",
     "iopub.status.idle": "2022-04-08T11:24:04.344866Z",
     "shell.execute_reply": "2022-04-08T11:24:04.345456Z",
     "shell.execute_reply.started": "2022-04-08T10:07:39.634082Z"
    },
    "papermill": {
     "duration": 0.043125,
     "end_time": "2022-04-08T11:24:04.345653",
     "exception": false,
     "start_time": "2022-04-08T11:24:04.302528",
     "status": "completed"
    },
    "tags": []
   },
   "outputs": [
    {
     "data": {
      "application/javascript": [
       "parent.postMessage({\"jupyterEvent\": \"custom.exercise_interaction\", \"data\": {\"interactionType\": 2, \"questionType\": 4, \"questionId\": \"3_WhyDataMissing\", \"learnToolsVersion\": \"0.3.4\", \"valueTowardsCompletion\": 0.0, \"failureMessage\": \"\", \"exceptionClass\": \"\", \"trace\": \"\", \"outcomeType\": 4}}, \"*\")"
      ],
      "text/plain": [
       "<IPython.core.display.Javascript object>"
      ]
     },
     "metadata": {},
     "output_type": "display_data"
    },
    {
     "data": {
      "text/markdown": [
       "<span style=\"color:#3366cc\">Hint:</span> Do all addresses generally have a street number suffix?  Do all addresses generally have a zipcode?"
      ],
      "text/plain": [
       "Hint: Do all addresses generally have a street number suffix?  Do all addresses generally have a zipcode?"
      ]
     },
     "metadata": {},
     "output_type": "display_data"
    }
   ],
   "source": [
    "# Line below will give you a hint\n",
    "q3.hint()"
   ]
  },
  {
   "cell_type": "markdown",
   "id": "3f6cf516",
   "metadata": {
    "papermill": {
     "duration": 0.034296,
     "end_time": "2022-04-08T11:24:04.414750",
     "exception": false,
     "start_time": "2022-04-08T11:24:04.380454",
     "status": "completed"
    },
    "tags": []
   },
   "source": [
    "# 4) Drop missing values: rows\n",
    "\n",
    "If you removed all of the rows of `sf_permits` with missing values, how many rows are left?\n",
    "\n",
    "**Note**: Do not change the value of `sf_permits` when checking this.  "
   ]
  },
  {
   "cell_type": "code",
   "execution_count": 10,
   "id": "ed67a106",
   "metadata": {
    "execution": {
     "iopub.execute_input": "2022-04-08T11:24:04.491277Z",
     "iopub.status.busy": "2022-04-08T11:24:04.490081Z",
     "iopub.status.idle": "2022-04-08T11:24:05.006603Z",
     "shell.execute_reply": "2022-04-08T11:24:05.005909Z",
     "shell.execute_reply.started": "2022-04-08T10:09:39.439269Z"
    },
    "papermill": {
     "duration": 0.557379,
     "end_time": "2022-04-08T11:24:05.006748",
     "exception": false,
     "start_time": "2022-04-08T11:24:04.449369",
     "status": "completed"
    },
    "tags": []
   },
   "outputs": [
    {
     "data": {
      "text/plain": [
       "Permit Number                             0.0\n",
       "Permit Type                               0.0\n",
       "Permit Type Definition                    0.0\n",
       "Permit Creation Date                      0.0\n",
       "Block                                     0.0\n",
       "Lot                                       0.0\n",
       "Street Number                             0.0\n",
       "Street Number Suffix                      0.0\n",
       "Street Name                               0.0\n",
       "Street Suffix                             0.0\n",
       "Unit                                      0.0\n",
       "Unit Suffix                               0.0\n",
       "Description                               0.0\n",
       "Current Status                            0.0\n",
       "Current Status Date                       0.0\n",
       "Filed Date                                0.0\n",
       "Issued Date                               0.0\n",
       "Completed Date                            0.0\n",
       "First Construction Document Date          0.0\n",
       "Structural Notification                   0.0\n",
       "Number of Existing Stories                0.0\n",
       "Number of Proposed Stories                0.0\n",
       "Voluntary Soft-Story Retrofit             0.0\n",
       "Fire Only Permit                          0.0\n",
       "Permit Expiration Date                    0.0\n",
       "Estimated Cost                            0.0\n",
       "Revised Cost                              0.0\n",
       "Existing Use                              0.0\n",
       "Existing Units                            0.0\n",
       "Proposed Use                              0.0\n",
       "Proposed Units                            0.0\n",
       "Plansets                                  0.0\n",
       "TIDF Compliance                           0.0\n",
       "Existing Construction Type                0.0\n",
       "Existing Construction Type Description    0.0\n",
       "Proposed Construction Type                0.0\n",
       "Proposed Construction Type Description    0.0\n",
       "Site Permit                               0.0\n",
       "Supervisor District                       0.0\n",
       "Neighborhoods - Analysis Boundaries       0.0\n",
       "Zipcode                                   0.0\n",
       "Location                                  0.0\n",
       "Record ID                                 0.0\n",
       "dtype: float64"
      ]
     },
     "execution_count": 10,
     "metadata": {},
     "output_type": "execute_result"
    }
   ],
   "source": [
    "# TODO: Your code here!\n",
    "sf_permits_2=sf_permits.dropna()\n",
    "sf_permits_2.isnull().sum()"
   ]
  },
  {
   "cell_type": "markdown",
   "id": "f6c9a8fa",
   "metadata": {
    "papermill": {
     "duration": 0.036144,
     "end_time": "2022-04-08T11:24:05.078370",
     "exception": false,
     "start_time": "2022-04-08T11:24:05.042226",
     "status": "completed"
    },
    "tags": []
   },
   "source": [
    "Once you have an answer, run the code cell below."
   ]
  },
  {
   "cell_type": "code",
   "execution_count": 11,
   "id": "3fc316e3",
   "metadata": {
    "execution": {
     "iopub.execute_input": "2022-04-08T11:24:05.152939Z",
     "iopub.status.busy": "2022-04-08T11:24:05.151972Z",
     "iopub.status.idle": "2022-04-08T11:24:05.159124Z",
     "shell.execute_reply": "2022-04-08T11:24:05.159751Z",
     "shell.execute_reply.started": "2022-04-08T10:19:49.646402Z"
    },
    "papermill": {
     "duration": 0.046081,
     "end_time": "2022-04-08T11:24:05.159925",
     "exception": false,
     "start_time": "2022-04-08T11:24:05.113844",
     "status": "completed"
    },
    "tags": []
   },
   "outputs": [
    {
     "data": {
      "application/javascript": [
       "parent.postMessage({\"jupyterEvent\": \"custom.exercise_interaction\", \"data\": {\"outcomeType\": 1, \"valueTowardsCompletion\": 0.16666666666666666, \"interactionType\": 1, \"questionType\": 4, \"questionId\": \"4_DropMissingRows\", \"learnToolsVersion\": \"0.3.4\", \"failureMessage\": \"\", \"exceptionClass\": \"\", \"trace\": \"\"}}, \"*\")"
      ],
      "text/plain": [
       "<IPython.core.display.Javascript object>"
      ]
     },
     "metadata": {},
     "output_type": "display_data"
    },
    {
     "data": {
      "text/markdown": [
       "<span style=\"color:#33cc33\">Correct:</span> \n",
       "\n",
       "There are no rows remaining in the dataset!"
      ],
      "text/plain": [
       "Correct: \n",
       "\n",
       "There are no rows remaining in the dataset!"
      ]
     },
     "metadata": {},
     "output_type": "display_data"
    }
   ],
   "source": [
    "# Check your answer (Run this code cell to receive credit!)\n",
    "q4.check()"
   ]
  },
  {
   "cell_type": "code",
   "execution_count": 12,
   "id": "274d6917",
   "metadata": {
    "execution": {
     "iopub.execute_input": "2022-04-08T11:24:05.236710Z",
     "iopub.status.busy": "2022-04-08T11:24:05.235735Z",
     "iopub.status.idle": "2022-04-08T11:24:05.243035Z",
     "shell.execute_reply": "2022-04-08T11:24:05.243523Z",
     "shell.execute_reply.started": "2022-04-08T10:07:40.186267Z"
    },
    "papermill": {
     "duration": 0.047524,
     "end_time": "2022-04-08T11:24:05.243690",
     "exception": false,
     "start_time": "2022-04-08T11:24:05.196166",
     "status": "completed"
    },
    "tags": []
   },
   "outputs": [
    {
     "data": {
      "application/javascript": [
       "parent.postMessage({\"jupyterEvent\": \"custom.exercise_interaction\", \"data\": {\"interactionType\": 2, \"questionType\": 4, \"questionId\": \"4_DropMissingRows\", \"learnToolsVersion\": \"0.3.4\", \"valueTowardsCompletion\": 0.0, \"failureMessage\": \"\", \"exceptionClass\": \"\", \"trace\": \"\", \"outcomeType\": 4}}, \"*\")"
      ],
      "text/plain": [
       "<IPython.core.display.Javascript object>"
      ]
     },
     "metadata": {},
     "output_type": "display_data"
    },
    {
     "data": {
      "text/markdown": [
       "<span style=\"color:#3366cc\">Hint:</span> Use `sf_permits.dropna()` to drop all missing rows."
      ],
      "text/plain": [
       "Hint: Use `sf_permits.dropna()` to drop all missing rows."
      ]
     },
     "metadata": {},
     "output_type": "display_data"
    }
   ],
   "source": [
    "# Line below will give you a hint\n",
    "q4.hint()"
   ]
  },
  {
   "cell_type": "markdown",
   "id": "860b5a85",
   "metadata": {
    "papermill": {
     "duration": 0.037278,
     "end_time": "2022-04-08T11:24:05.318947",
     "exception": false,
     "start_time": "2022-04-08T11:24:05.281669",
     "status": "completed"
    },
    "tags": []
   },
   "source": [
    "# 5) Drop missing values: columns\n",
    "\n",
    "Now try removing all the columns with empty values.  \n",
    "- Create a new DataFrame called `sf_permits_with_na_dropped` that has all of the columns with empty values removed.  \n",
    "- How many columns were removed from the original `sf_permits` DataFrame? Use this number to set the value of the `dropped_columns` variable below."
   ]
  },
  {
   "cell_type": "code",
   "execution_count": 13,
   "id": "91faf291",
   "metadata": {
    "execution": {
     "iopub.execute_input": "2022-04-08T11:24:05.400193Z",
     "iopub.status.busy": "2022-04-08T11:24:05.399455Z",
     "iopub.status.idle": "2022-04-08T11:24:05.916822Z",
     "shell.execute_reply": "2022-04-08T11:24:05.917330Z",
     "shell.execute_reply.started": "2022-04-08T10:19:55.345450Z"
    },
    "papermill": {
     "duration": 0.560715,
     "end_time": "2022-04-08T11:24:05.917540",
     "exception": false,
     "start_time": "2022-04-08T11:24:05.356825",
     "status": "completed"
    },
    "tags": []
   },
   "outputs": [
    {
     "data": {
      "application/javascript": [
       "parent.postMessage({\"jupyterEvent\": \"custom.exercise_interaction\", \"data\": {\"outcomeType\": 1, \"valueTowardsCompletion\": 0.16666666666666666, \"interactionType\": 1, \"questionType\": 1, \"questionId\": \"5_DropMissingCols\", \"learnToolsVersion\": \"0.3.4\", \"failureMessage\": \"\", \"exceptionClass\": \"\", \"trace\": \"\"}}, \"*\")"
      ],
      "text/plain": [
       "<IPython.core.display.Javascript object>"
      ]
     },
     "metadata": {},
     "output_type": "display_data"
    },
    {
     "data": {
      "text/markdown": [
       "<span style=\"color:#33cc33\">Correct</span>"
      ],
      "text/plain": [
       "Correct"
      ]
     },
     "metadata": {},
     "output_type": "display_data"
    }
   ],
   "source": [
    "# TODO: Your code here\n",
    "sf_permits_with_na_dropped = sf_permits.dropna(axis=1)\n",
    "\n",
    "dropped_columns = sf_permits.shape[1]- sf_permits_with_na_dropped.shape[1]\n",
    "\n",
    "# Check your answer\n",
    "q5.check()"
   ]
  },
  {
   "cell_type": "code",
   "execution_count": 14,
   "id": "0f7b6e3c",
   "metadata": {
    "execution": {
     "iopub.execute_input": "2022-04-08T11:24:06.003744Z",
     "iopub.status.busy": "2022-04-08T11:24:06.003048Z",
     "iopub.status.idle": "2022-04-08T11:24:06.533562Z",
     "shell.execute_reply": "2022-04-08T11:24:06.532938Z",
     "shell.execute_reply.started": "2022-04-08T10:20:44.401874Z"
    },
    "papermill": {
     "duration": 0.575073,
     "end_time": "2022-04-08T11:24:06.533715",
     "exception": false,
     "start_time": "2022-04-08T11:24:05.958642",
     "status": "completed"
    },
    "tags": []
   },
   "outputs": [
    {
     "data": {
      "application/javascript": [
       "parent.postMessage({\"jupyterEvent\": \"custom.exercise_interaction\", \"data\": {\"outcomeType\": 1, \"valueTowardsCompletion\": 0.16666666666666666, \"interactionType\": 1, \"questionType\": 1, \"questionId\": \"5_DropMissingCols\", \"learnToolsVersion\": \"0.3.4\", \"failureMessage\": \"\", \"exceptionClass\": \"\", \"trace\": \"\"}}, \"*\")"
      ],
      "text/plain": [
       "<IPython.core.display.Javascript object>"
      ]
     },
     "metadata": {},
     "output_type": "display_data"
    },
    {
     "data": {
      "text/markdown": [
       "<span style=\"color:#33cc33\">Correct</span>"
      ],
      "text/plain": [
       "Correct"
      ]
     },
     "metadata": {},
     "output_type": "display_data"
    }
   ],
   "source": [
    "# TODO: Your code here\n",
    "sf_permits_with_na_dropped = sf_permits.dropna(axis=1)\n",
    "\n",
    "dropped_columns = sf_permits.shape[1]- sf_permits_with_na_dropped.shape[1]\n",
    "\n",
    "# Check your answer\n",
    "q5.check()"
   ]
  },
  {
   "cell_type": "code",
   "execution_count": 15,
   "id": "6106863b",
   "metadata": {
    "execution": {
     "iopub.execute_input": "2022-04-08T11:24:06.620464Z",
     "iopub.status.busy": "2022-04-08T11:24:06.619834Z",
     "iopub.status.idle": "2022-04-08T11:24:07.148727Z",
     "shell.execute_reply": "2022-04-08T11:24:07.148174Z",
     "shell.execute_reply.started": "2022-04-08T10:07:41.274450Z"
    },
    "papermill": {
     "duration": 0.574524,
     "end_time": "2022-04-08T11:24:07.148882",
     "exception": false,
     "start_time": "2022-04-08T11:24:06.574358",
     "status": "completed"
    },
    "tags": []
   },
   "outputs": [
    {
     "data": {
      "application/javascript": [
       "parent.postMessage({\"jupyterEvent\": \"custom.exercise_interaction\", \"data\": {\"outcomeType\": 1, \"valueTowardsCompletion\": 0.16666666666666666, \"interactionType\": 1, \"questionType\": 1, \"questionId\": \"5_DropMissingCols\", \"learnToolsVersion\": \"0.3.4\", \"failureMessage\": \"\", \"exceptionClass\": \"\", \"trace\": \"\"}}, \"*\")"
      ],
      "text/plain": [
       "<IPython.core.display.Javascript object>"
      ]
     },
     "metadata": {},
     "output_type": "display_data"
    },
    {
     "data": {
      "text/markdown": [
       "<span style=\"color:#33cc33\">Correct</span>"
      ],
      "text/plain": [
       "Correct"
      ]
     },
     "metadata": {},
     "output_type": "display_data"
    }
   ],
   "source": [
    "# TODO: Your code here\n",
    "sf_permits_with_na_dropped = sf_permits.dropna(axis=1)\n",
    "\n",
    "dropped_columns = sf_permits.shape[1]- sf_permits_with_na_dropped.shape[1]\n",
    "\n",
    "# Check your answer\n",
    "q5.check()"
   ]
  },
  {
   "cell_type": "code",
   "execution_count": 16,
   "id": "9c26ea51",
   "metadata": {
    "execution": {
     "iopub.execute_input": "2022-04-08T11:24:07.251471Z",
     "iopub.status.busy": "2022-04-08T11:24:07.250593Z",
     "iopub.status.idle": "2022-04-08T11:24:07.253195Z",
     "shell.execute_reply": "2022-04-08T11:24:07.252515Z",
     "shell.execute_reply.started": "2022-04-08T10:07:41.804695Z"
    },
    "papermill": {
     "duration": 0.055495,
     "end_time": "2022-04-08T11:24:07.253343",
     "exception": false,
     "start_time": "2022-04-08T11:24:07.197848",
     "status": "completed"
    },
    "tags": []
   },
   "outputs": [],
   "source": [
    "# Lines below will give you a hint or solution code\n",
    "#q5.hint()\n",
    "#q5.solution()"
   ]
  },
  {
   "cell_type": "markdown",
   "id": "09c42db6",
   "metadata": {
    "papermill": {
     "duration": 0.041223,
     "end_time": "2022-04-08T11:24:07.337257",
     "exception": false,
     "start_time": "2022-04-08T11:24:07.296034",
     "status": "completed"
    },
    "tags": []
   },
   "source": [
    "# 6) Fill in missing values automatically\n",
    "\n",
    "Try replacing all the NaN's in the `sf_permits` data with the one that comes directly after it and then replacing any remaining NaN's with 0.  Set the result to a new DataFrame `sf_permits_with_na_imputed`."
   ]
  },
  {
   "cell_type": "code",
   "execution_count": 17,
   "id": "8057d94f",
   "metadata": {
    "execution": {
     "iopub.execute_input": "2022-04-08T11:24:07.425848Z",
     "iopub.status.busy": "2022-04-08T11:24:07.425159Z",
     "iopub.status.idle": "2022-04-08T11:24:08.965892Z",
     "shell.execute_reply": "2022-04-08T11:24:08.965302Z",
     "shell.execute_reply.started": "2022-04-08T10:07:41.811071Z"
    },
    "papermill": {
     "duration": 1.58738,
     "end_time": "2022-04-08T11:24:08.966039",
     "exception": false,
     "start_time": "2022-04-08T11:24:07.378659",
     "status": "completed"
    },
    "tags": []
   },
   "outputs": [
    {
     "data": {
      "application/javascript": [
       "parent.postMessage({\"jupyterEvent\": \"custom.exercise_interaction\", \"data\": {\"outcomeType\": 1, \"valueTowardsCompletion\": 0.16666666666666666, \"interactionType\": 1, \"questionType\": 1, \"questionId\": \"6_ImputeAutomatically\", \"learnToolsVersion\": \"0.3.4\", \"failureMessage\": \"\", \"exceptionClass\": \"\", \"trace\": \"\"}}, \"*\")"
      ],
      "text/plain": [
       "<IPython.core.display.Javascript object>"
      ]
     },
     "metadata": {},
     "output_type": "display_data"
    },
    {
     "data": {
      "text/markdown": [
       "<span style=\"color:#33cc33\">Correct</span>"
      ],
      "text/plain": [
       "Correct"
      ]
     },
     "metadata": {},
     "output_type": "display_data"
    }
   ],
   "source": [
    "# TODO: Your code here\n",
    "sf_permits_ffill=sf_permits.fillna(method='bfill')\n",
    "sf_permits_with_na_imputed = sf_permits_ffill.fillna(0)\n",
    "\n",
    "# Check your answer\n",
    "q6.check()"
   ]
  },
  {
   "cell_type": "code",
   "execution_count": 18,
   "id": "61db582d",
   "metadata": {
    "execution": {
     "iopub.execute_input": "2022-04-08T11:24:09.055902Z",
     "iopub.status.busy": "2022-04-08T11:24:09.055253Z",
     "iopub.status.idle": "2022-04-08T11:24:09.057715Z",
     "shell.execute_reply": "2022-04-08T11:24:09.057094Z",
     "shell.execute_reply.started": "2022-04-08T10:07:43.354120Z"
    },
    "papermill": {
     "duration": 0.04867,
     "end_time": "2022-04-08T11:24:09.057852",
     "exception": false,
     "start_time": "2022-04-08T11:24:09.009182",
     "status": "completed"
    },
    "tags": []
   },
   "outputs": [],
   "source": [
    "# Lines below will give you a hint or solution code\n",
    "#q6.hint()\n",
    "#q6.solution()"
   ]
  },
  {
   "cell_type": "markdown",
   "id": "89e8e85e",
   "metadata": {
    "papermill": {
     "duration": 0.042608,
     "end_time": "2022-04-08T11:24:09.145029",
     "exception": false,
     "start_time": "2022-04-08T11:24:09.102421",
     "status": "completed"
    },
    "tags": []
   },
   "source": [
    "# More practice\n",
    "\n",
    "If you're looking for more practice handling missing values:\n",
    "\n",
    "* Check out [this noteboook](https://www.kaggle.com/alexisbcook/missing-values) on handling missing values using scikit-learn's imputer. \n",
    "* Look back at the \"Zipcode\" column in the `sf_permits` dataset, which has some missing values. How would you go about figuring out what the actual zipcode of each address should be? (You might try using another dataset. You can search for datasets about San Fransisco on the [Datasets listing](https://www.kaggle.com/datasets).) \n",
    "\n",
    "# Keep going\n",
    "\n",
    "In the next lesson, learn how to [**apply scaling and normalization**](https://www.kaggle.com/alexisbcook/scaling-and-normalization) to transform your data."
   ]
  },
  {
   "cell_type": "markdown",
   "id": "ae122819",
   "metadata": {
    "papermill": {
     "duration": 0.042412,
     "end_time": "2022-04-08T11:24:09.230033",
     "exception": false,
     "start_time": "2022-04-08T11:24:09.187621",
     "status": "completed"
    },
    "tags": []
   },
   "source": [
    "---\n",
    "\n",
    "\n",
    "\n",
    "\n",
    "*Have questions or comments? Visit the [course discussion forum](https://www.kaggle.com/learn/data-cleaning/discussion) to chat with other learners.*"
   ]
  }
 ],
 "metadata": {
  "kernelspec": {
   "display_name": "Python 3",
   "language": "python",
   "name": "python3"
  },
  "language_info": {
   "codemirror_mode": {
    "name": "ipython",
    "version": 3
   },
   "file_extension": ".py",
   "mimetype": "text/x-python",
   "name": "python",
   "nbconvert_exporter": "python",
   "pygments_lexer": "ipython3",
   "version": "3.7.12"
  },
  "papermill": {
   "default_parameters": {},
   "duration": 24.450937,
   "end_time": "2022-04-08T11:24:10.082919",
   "environment_variables": {},
   "exception": null,
   "input_path": "__notebook__.ipynb",
   "output_path": "__notebook__.ipynb",
   "parameters": {},
   "start_time": "2022-04-08T11:23:45.631982",
   "version": "2.3.3"
  }
 },
 "nbformat": 4,
 "nbformat_minor": 5
}
