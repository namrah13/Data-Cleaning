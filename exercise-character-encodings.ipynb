{
 "cells": [
  {
   "cell_type": "markdown",
   "id": "3a058dba",
   "metadata": {
    "papermill": {
     "duration": 0.017889,
     "end_time": "2022-04-09T20:31:12.806019",
     "exception": false,
     "start_time": "2022-04-09T20:31:12.788130",
     "status": "completed"
    },
    "tags": []
   },
   "source": [
    "**This notebook is an exercise in the [Data Cleaning](https://www.kaggle.com/learn/data-cleaning) course.  You can reference the tutorial at [this link](https://www.kaggle.com/alexisbcook/character-encodings).**\n",
    "\n",
    "---\n"
   ]
  },
  {
   "cell_type": "markdown",
   "id": "1a067c4d",
   "metadata": {
    "papermill": {
     "duration": 0.020035,
     "end_time": "2022-04-09T20:31:12.845696",
     "exception": false,
     "start_time": "2022-04-09T20:31:12.825661",
     "status": "completed"
    },
    "tags": []
   },
   "source": [
    "In this exercise, you'll apply what you learned in the **Character encodings** tutorial.\n",
    "\n",
    "# Setup\n",
    "\n",
    "The questions below will give you feedback on your work. Run the following cell to set up the feedback system."
   ]
  },
  {
   "cell_type": "code",
   "execution_count": 1,
   "id": "18682921",
   "metadata": {
    "execution": {
     "iopub.execute_input": "2022-04-09T20:31:12.902722Z",
     "iopub.status.busy": "2022-04-09T20:31:12.892659Z",
     "iopub.status.idle": "2022-04-09T20:31:12.985763Z",
     "shell.execute_reply": "2022-04-09T20:31:12.986535Z",
     "shell.execute_reply.started": "2022-04-09T20:30:35.497667Z"
    },
    "papermill": {
     "duration": 0.122886,
     "end_time": "2022-04-09T20:31:12.986840",
     "exception": false,
     "start_time": "2022-04-09T20:31:12.863954",
     "status": "completed"
    },
    "tags": []
   },
   "outputs": [
    {
     "name": "stdout",
     "output_type": "stream",
     "text": [
      "Setup Complete\n"
     ]
    }
   ],
   "source": [
    "from learntools.core import binder\n",
    "binder.bind(globals())\n",
    "from learntools.data_cleaning.ex4 import *\n",
    "print(\"Setup Complete\")"
   ]
  },
  {
   "cell_type": "markdown",
   "id": "e93dae7a",
   "metadata": {
    "papermill": {
     "duration": 0.017549,
     "end_time": "2022-04-09T20:31:13.025407",
     "exception": false,
     "start_time": "2022-04-09T20:31:13.007858",
     "status": "completed"
    },
    "tags": []
   },
   "source": [
    "# Get our environment set up\n",
    "\n",
    "The first thing we'll need to do is load in the libraries we'll be using."
   ]
  },
  {
   "cell_type": "code",
   "execution_count": 2,
   "id": "f5589281",
   "metadata": {
    "execution": {
     "iopub.execute_input": "2022-04-09T20:31:13.073708Z",
     "iopub.status.busy": "2022-04-09T20:31:13.072738Z",
     "iopub.status.idle": "2022-04-09T20:31:13.076757Z",
     "shell.execute_reply": "2022-04-09T20:31:13.076106Z",
     "shell.execute_reply.started": "2022-04-09T20:30:35.606411Z"
    },
    "papermill": {
     "duration": 0.030642,
     "end_time": "2022-04-09T20:31:13.076912",
     "exception": false,
     "start_time": "2022-04-09T20:31:13.046270",
     "status": "completed"
    },
    "tags": []
   },
   "outputs": [],
   "source": [
    "# modules we'll use\n",
    "import pandas as pd\n",
    "import numpy as np\n",
    "\n",
    "# helpful character encoding module\n",
    "import chardet\n",
    "\n",
    "# set seed for reproducibility\n",
    "np.random.seed(0)"
   ]
  },
  {
   "cell_type": "markdown",
   "id": "1deb6c7a",
   "metadata": {
    "papermill": {
     "duration": 0.018209,
     "end_time": "2022-04-09T20:31:13.112839",
     "exception": false,
     "start_time": "2022-04-09T20:31:13.094630",
     "status": "completed"
    },
    "tags": []
   },
   "source": [
    "# 1) What are encodings?\n",
    "\n",
    "You're working with a dataset composed of bytes.  Run the code cell below to print a sample entry."
   ]
  },
  {
   "cell_type": "code",
   "execution_count": 3,
   "id": "d1f47646",
   "metadata": {
    "execution": {
     "iopub.execute_input": "2022-04-09T20:31:13.156671Z",
     "iopub.status.busy": "2022-04-09T20:31:13.155977Z",
     "iopub.status.idle": "2022-04-09T20:31:13.160358Z",
     "shell.execute_reply": "2022-04-09T20:31:13.160969Z",
     "shell.execute_reply.started": "2022-04-09T20:30:35.614629Z"
    },
    "papermill": {
     "duration": 0.030834,
     "end_time": "2022-04-09T20:31:13.161151",
     "exception": false,
     "start_time": "2022-04-09T20:31:13.130317",
     "status": "completed"
    },
    "tags": []
   },
   "outputs": [
    {
     "name": "stdout",
     "output_type": "stream",
     "text": [
      "b'\\xa7A\\xa6n'\n",
      "data type: <class 'bytes'>\n"
     ]
    }
   ],
   "source": [
    "sample_entry = b'\\xa7A\\xa6n'\n",
    "print(sample_entry)\n",
    "print('data type:', type(sample_entry))"
   ]
  },
  {
   "cell_type": "markdown",
   "id": "894387da",
   "metadata": {
    "papermill": {
     "duration": 0.018273,
     "end_time": "2022-04-09T20:31:13.200297",
     "exception": false,
     "start_time": "2022-04-09T20:31:13.182024",
     "status": "completed"
    },
    "tags": []
   },
   "source": [
    "You notice that it doesn't use the standard UTF-8 encoding. \n",
    "\n",
    "Use the next code cell to create a variable `new_entry` that changes the encoding from `\"big5-tw\"` to `\"utf-8\"`.  `new_entry` should have the bytes datatype."
   ]
  },
  {
   "cell_type": "code",
   "execution_count": 4,
   "id": "69c1a449",
   "metadata": {
    "execution": {
     "iopub.execute_input": "2022-04-09T20:31:13.246633Z",
     "iopub.status.busy": "2022-04-09T20:31:13.245587Z",
     "iopub.status.idle": "2022-04-09T20:31:13.251402Z",
     "shell.execute_reply": "2022-04-09T20:31:13.251936Z",
     "shell.execute_reply.started": "2022-04-09T20:30:35.630691Z"
    },
    "papermill": {
     "duration": 0.034062,
     "end_time": "2022-04-09T20:31:13.252109",
     "exception": false,
     "start_time": "2022-04-09T20:31:13.218047",
     "status": "completed"
    },
    "tags": []
   },
   "outputs": [
    {
     "data": {
      "application/javascript": [
       "parent.postMessage({\"jupyterEvent\": \"custom.exercise_interaction\", \"data\": {\"outcomeType\": 1, \"valueTowardsCompletion\": 0.3333333333333333, \"interactionType\": 1, \"questionType\": 1, \"questionId\": \"1_EncodingsIntro\", \"learnToolsVersion\": \"0.3.4\", \"failureMessage\": \"\", \"exceptionClass\": \"\", \"trace\": \"\"}}, \"*\")"
      ],
      "text/plain": [
       "<IPython.core.display.Javascript object>"
      ]
     },
     "metadata": {},
     "output_type": "display_data"
    },
    {
     "data": {
      "text/markdown": [
       "<span style=\"color:#33cc33\">Correct</span>"
      ],
      "text/plain": [
       "Correct"
      ]
     },
     "metadata": {},
     "output_type": "display_data"
    }
   ],
   "source": [
    "before = sample_entry.decode(\"big5-tw\")\n",
    "new_entry = before.encode()\n",
    "\n",
    "# Check your answer\n",
    "q1.check()"
   ]
  },
  {
   "cell_type": "code",
   "execution_count": 5,
   "id": "995dadf0",
   "metadata": {
    "execution": {
     "iopub.execute_input": "2022-04-09T20:31:13.293885Z",
     "iopub.status.busy": "2022-04-09T20:31:13.292916Z",
     "iopub.status.idle": "2022-04-09T20:31:13.300189Z",
     "shell.execute_reply": "2022-04-09T20:31:13.300760Z",
     "shell.execute_reply.started": "2022-04-09T20:30:35.650520Z"
    },
    "papermill": {
     "duration": 0.029833,
     "end_time": "2022-04-09T20:31:13.300936",
     "exception": false,
     "start_time": "2022-04-09T20:31:13.271103",
     "status": "completed"
    },
    "tags": []
   },
   "outputs": [
    {
     "data": {
      "application/javascript": [
       "parent.postMessage({\"jupyterEvent\": \"custom.exercise_interaction\", \"data\": {\"interactionType\": 3, \"questionType\": 1, \"questionId\": \"1_EncodingsIntro\", \"learnToolsVersion\": \"0.3.4\", \"valueTowardsCompletion\": 0.0, \"failureMessage\": \"\", \"exceptionClass\": \"\", \"trace\": \"\", \"outcomeType\": 4}}, \"*\")"
      ],
      "text/plain": [
       "<IPython.core.display.Javascript object>"
      ]
     },
     "metadata": {},
     "output_type": "display_data"
    },
    {
     "data": {
      "text/markdown": [
       "<span style=\"color:#33cc99\">Solution:</span> \n",
       "```python\n",
       "before = sample_entry.decode(\"big5-tw\")\n",
       "new_entry = before.encode()\n",
       "\n",
       "```"
      ],
      "text/plain": [
       "Solution: \n",
       "```python\n",
       "before = sample_entry.decode(\"big5-tw\")\n",
       "new_entry = before.encode()\n",
       "\n",
       "```"
      ]
     },
     "metadata": {},
     "output_type": "display_data"
    }
   ],
   "source": [
    "# Lines below will give you a hint or solution code\n",
    "#q1.hint()\n",
    "q1.solution()"
   ]
  },
  {
   "cell_type": "markdown",
   "id": "ca53976c",
   "metadata": {
    "papermill": {
     "duration": 0.019983,
     "end_time": "2022-04-09T20:31:13.341072",
     "exception": false,
     "start_time": "2022-04-09T20:31:13.321089",
     "status": "completed"
    },
    "tags": []
   },
   "source": [
    "# 2) Reading in files with encoding problems\n",
    "\n",
    "Use the code cell below to read in this file at path `\"../input/fatal-police-shootings-in-the-us/PoliceKillingsUS.csv\"`.  \n",
    "\n",
    "Figure out what the correct encoding should be and read in the file to a DataFrame `police_killings`."
   ]
  },
  {
   "cell_type": "code",
   "execution_count": 6,
   "id": "ac31e8aa",
   "metadata": {
    "execution": {
     "iopub.execute_input": "2022-04-09T20:31:13.385231Z",
     "iopub.status.busy": "2022-04-09T20:31:13.384236Z",
     "iopub.status.idle": "2022-04-09T20:31:13.409428Z",
     "shell.execute_reply": "2022-04-09T20:31:13.408906Z",
     "shell.execute_reply.started": "2022-04-09T20:30:35.662396Z"
    },
    "papermill": {
     "duration": 0.048252,
     "end_time": "2022-04-09T20:31:13.409605",
     "exception": false,
     "start_time": "2022-04-09T20:31:13.361353",
     "status": "completed"
    },
    "tags": []
   },
   "outputs": [
    {
     "data": {
      "application/javascript": [
       "parent.postMessage({\"jupyterEvent\": \"custom.exercise_interaction\", \"data\": {\"outcomeType\": 1, \"valueTowardsCompletion\": 0.3333333333333333, \"interactionType\": 1, \"questionType\": 1, \"questionId\": \"2_ReadIn\", \"learnToolsVersion\": \"0.3.4\", \"failureMessage\": \"\", \"exceptionClass\": \"\", \"trace\": \"\"}}, \"*\")"
      ],
      "text/plain": [
       "<IPython.core.display.Javascript object>"
      ]
     },
     "metadata": {},
     "output_type": "display_data"
    },
    {
     "data": {
      "text/markdown": [
       "<span style=\"color:#33cc33\">Correct</span>"
      ],
      "text/plain": [
       "Correct"
      ]
     },
     "metadata": {},
     "output_type": "display_data"
    }
   ],
   "source": [
    "# TODO: Load in the DataFrame correctly.\n",
    "police_killings = pd.read_csv(\"../input/fatal-police-shootings-in-the-us/PoliceKillingsUS.csv\", encoding='Windows-1252')\n",
    "\n",
    "# Check your answer\n",
    "q2.check()"
   ]
  },
  {
   "cell_type": "markdown",
   "id": "e103eccd",
   "metadata": {
    "papermill": {
     "duration": 0.021458,
     "end_time": "2022-04-09T20:31:13.453304",
     "exception": false,
     "start_time": "2022-04-09T20:31:13.431846",
     "status": "completed"
    },
    "tags": []
   },
   "source": [
    "Feel free to use any additional code cells for supplemental work.  To get credit for finishing this question, you'll need to run `q2.check()` and get a result of **Correct**."
   ]
  },
  {
   "cell_type": "code",
   "execution_count": null,
   "id": "497e5c7a",
   "metadata": {
    "papermill": {
     "duration": 0.02117,
     "end_time": "2022-04-09T20:31:13.496095",
     "exception": false,
     "start_time": "2022-04-09T20:31:13.474925",
     "status": "completed"
    },
    "tags": []
   },
   "outputs": [],
   "source": []
  },
  {
   "cell_type": "code",
   "execution_count": 7,
   "id": "c2fb97e0",
   "metadata": {
    "execution": {
     "iopub.execute_input": "2022-04-09T20:31:13.544337Z",
     "iopub.status.busy": "2022-04-09T20:31:13.543692Z",
     "iopub.status.idle": "2022-04-09T20:31:13.549116Z",
     "shell.execute_reply": "2022-04-09T20:31:13.549779Z",
     "shell.execute_reply.started": "2022-04-09T20:30:35.693883Z"
    },
    "papermill": {
     "duration": 0.032013,
     "end_time": "2022-04-09T20:31:13.549960",
     "exception": false,
     "start_time": "2022-04-09T20:31:13.517947",
     "status": "completed"
    },
    "tags": []
   },
   "outputs": [
    {
     "data": {
      "application/javascript": [
       "parent.postMessage({\"jupyterEvent\": \"custom.exercise_interaction\", \"data\": {\"interactionType\": 3, \"questionType\": 1, \"questionId\": \"2_ReadIn\", \"learnToolsVersion\": \"0.3.4\", \"valueTowardsCompletion\": 0.0, \"failureMessage\": \"\", \"exceptionClass\": \"\", \"trace\": \"\", \"outcomeType\": 4}}, \"*\")"
      ],
      "text/plain": [
       "<IPython.core.display.Javascript object>"
      ]
     },
     "metadata": {},
     "output_type": "display_data"
    },
    {
     "data": {
      "text/markdown": [
       "<span style=\"color:#33cc99\">Solution:</span> \n",
       "```python\n",
       "police_killings = pd.read_csv(\"../input/fatal-police-shootings-in-the-us/PoliceKillingsUS.csv\", encoding='Windows-1252')\n",
       "\n",
       "```"
      ],
      "text/plain": [
       "Solution: \n",
       "```python\n",
       "police_killings = pd.read_csv(\"../input/fatal-police-shootings-in-the-us/PoliceKillingsUS.csv\", encoding='Windows-1252')\n",
       "\n",
       "```"
      ]
     },
     "metadata": {},
     "output_type": "display_data"
    }
   ],
   "source": [
    "# Lines below will give you a hint or solution code\n",
    "#q2.hint()\n",
    "q2.solution()"
   ]
  },
  {
   "cell_type": "markdown",
   "id": "a1f0c1b0",
   "metadata": {
    "papermill": {
     "duration": 0.022435,
     "end_time": "2022-04-09T20:31:13.595356",
     "exception": false,
     "start_time": "2022-04-09T20:31:13.572921",
     "status": "completed"
    },
    "tags": []
   },
   "source": [
    "# 3) Saving your files with UTF-8 encoding\n",
    "\n",
    "Save a version of the police killings dataset to CSV with UTF-8 encoding.  Your answer will be marked correct after saving this file.  \n",
    "\n",
    "Note: When using the `to_csv()` method, supply only the name of the file (e.g., `\"my_file.csv\"`).  This saves the file at the filepath `\"/kaggle/working/my_file.csv\"`."
   ]
  },
  {
   "cell_type": "code",
   "execution_count": 8,
   "id": "3269f067",
   "metadata": {
    "execution": {
     "iopub.execute_input": "2022-04-09T20:31:13.645205Z",
     "iopub.status.busy": "2022-04-09T20:31:13.644545Z",
     "iopub.status.idle": "2022-04-09T20:31:13.695390Z",
     "shell.execute_reply": "2022-04-09T20:31:13.695947Z",
     "shell.execute_reply.started": "2022-04-09T20:30:35.702704Z"
    },
    "papermill": {
     "duration": 0.077768,
     "end_time": "2022-04-09T20:31:13.696134",
     "exception": false,
     "start_time": "2022-04-09T20:31:13.618366",
     "status": "completed"
    },
    "tags": []
   },
   "outputs": [
    {
     "data": {
      "application/javascript": [
       "parent.postMessage({\"jupyterEvent\": \"custom.exercise_interaction\", \"data\": {\"outcomeType\": 1, \"valueTowardsCompletion\": 0.3333333333333333, \"interactionType\": 1, \"questionType\": 2, \"questionId\": \"3_SaveCSV\", \"learnToolsVersion\": \"0.3.4\", \"failureMessage\": \"\", \"exceptionClass\": \"\", \"trace\": \"\"}}, \"*\")"
      ],
      "text/plain": [
       "<IPython.core.display.Javascript object>"
      ]
     },
     "metadata": {},
     "output_type": "display_data"
    },
    {
     "data": {
      "text/markdown": [
       "<span style=\"color:#33cc33\">Correct</span>"
      ],
      "text/plain": [
       "Correct"
      ]
     },
     "metadata": {},
     "output_type": "display_data"
    }
   ],
   "source": [
    "# TODO: Save the police killings dataset to CSV\n",
    "police_killings.to_csv(\"my_file.csv\")\n",
    "\n",
    "# Check your answer\n",
    "q3.check()"
   ]
  },
  {
   "cell_type": "code",
   "execution_count": 9,
   "id": "bf758dfb",
   "metadata": {
    "execution": {
     "iopub.execute_input": "2022-04-09T20:31:13.747790Z",
     "iopub.status.busy": "2022-04-09T20:31:13.747098Z",
     "iopub.status.idle": "2022-04-09T20:31:13.752314Z",
     "shell.execute_reply": "2022-04-09T20:31:13.752848Z",
     "shell.execute_reply.started": "2022-04-09T20:30:35.758980Z"
    },
    "papermill": {
     "duration": 0.03242,
     "end_time": "2022-04-09T20:31:13.753022",
     "exception": false,
     "start_time": "2022-04-09T20:31:13.720602",
     "status": "completed"
    },
    "tags": []
   },
   "outputs": [
    {
     "data": {
      "application/javascript": [
       "parent.postMessage({\"jupyterEvent\": \"custom.exercise_interaction\", \"data\": {\"interactionType\": 3, \"questionType\": 2, \"questionId\": \"3_SaveCSV\", \"learnToolsVersion\": \"0.3.4\", \"valueTowardsCompletion\": 0.0, \"failureMessage\": \"\", \"exceptionClass\": \"\", \"trace\": \"\", \"outcomeType\": 4}}, \"*\")"
      ],
      "text/plain": [
       "<IPython.core.display.Javascript object>"
      ]
     },
     "metadata": {},
     "output_type": "display_data"
    },
    {
     "data": {
      "text/markdown": [
       "<span style=\"color:#33cc99\">Solution:</span> \n",
       "```python\n",
       "\n",
       "police_killings.to_csv(\"my_file.csv\")\n",
       "\n",
       "```"
      ],
      "text/plain": [
       "Solution: \n",
       "```python\n",
       "\n",
       "police_killings.to_csv(\"my_file.csv\")\n",
       "\n",
       "```"
      ]
     },
     "metadata": {},
     "output_type": "display_data"
    }
   ],
   "source": [
    "# Lines below will give you a hint or solution code\n",
    "#q3.hint()\n",
    "q3.solution()"
   ]
  },
  {
   "cell_type": "markdown",
   "id": "1c47c2b3",
   "metadata": {
    "papermill": {
     "duration": 0.026562,
     "end_time": "2022-04-09T20:31:13.804646",
     "exception": false,
     "start_time": "2022-04-09T20:31:13.778084",
     "status": "completed"
    },
    "tags": []
   },
   "source": [
    "# (Optional) More practice\n",
    "\n",
    "Check out [this dataset of files in different character encodings](https://www.kaggle.com/rtatman/character-encoding-examples). Can you read in all the files with their original encodings and them save them out as UTF-8 files?\n",
    "\n",
    "If you have a file that's in UTF-8 but has just a couple of weird-looking characters in it, you can try out the [ftfy module](https://ftfy.readthedocs.io/en/latest/#) and see if it helps. \n",
    "\n",
    "# Keep going\n",
    "\n",
    "In the final lesson, learn how to [**clean up inconsistent text entries**](https://www.kaggle.com/alexisbcook/inconsistent-data-entry) in your dataset."
   ]
  },
  {
   "cell_type": "markdown",
   "id": "72331211",
   "metadata": {
    "papermill": {
     "duration": 0.025088,
     "end_time": "2022-04-09T20:31:13.856153",
     "exception": false,
     "start_time": "2022-04-09T20:31:13.831065",
     "status": "completed"
    },
    "tags": []
   },
   "source": [
    "---\n",
    "\n",
    "\n",
    "\n",
    "\n",
    "*Have questions or comments? Visit the [course discussion forum](https://www.kaggle.com/learn/data-cleaning/discussion) to chat with other learners.*"
   ]
  }
 ],
 "metadata": {
  "kernelspec": {
   "display_name": "Python 3",
   "language": "python",
   "name": "python3"
  },
  "language_info": {
   "codemirror_mode": {
    "name": "ipython",
    "version": 3
   },
   "file_extension": ".py",
   "mimetype": "text/x-python",
   "name": "python",
   "nbconvert_exporter": "python",
   "pygments_lexer": "ipython3",
   "version": "3.7.12"
  },
  "papermill": {
   "default_parameters": {},
   "duration": 11.653263,
   "end_time": "2022-04-09T20:31:14.491819",
   "environment_variables": {},
   "exception": null,
   "input_path": "__notebook__.ipynb",
   "output_path": "__notebook__.ipynb",
   "parameters": {},
   "start_time": "2022-04-09T20:31:02.838556",
   "version": "2.3.3"
  }
 },
 "nbformat": 4,
 "nbformat_minor": 5
}
